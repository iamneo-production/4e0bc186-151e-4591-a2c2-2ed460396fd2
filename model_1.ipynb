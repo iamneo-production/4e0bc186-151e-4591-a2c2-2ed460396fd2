{
 "cells": [
  {
   "cell_type": "code",
   "execution_count": 1,
   "metadata": {},
   "outputs": [],
   "source": [
    "import numpy as np\n",
    "import pandas as pd"
   ]
  },
  {
   "cell_type": "code",
   "execution_count": 2,
   "metadata": {},
   "outputs": [],
   "source": [
    "df1 = pd.read_csv(\"Datasets\\\\temperature\\Weather_Jan_to_Mar_2021.csv\")\n",
    "df2 = pd.read_csv(\"Datasets\\\\temperature\\TS Weather Data April 2021 .csv\")\n",
    "df3 = pd.read_csv(\"Datasets\\\\temperature\\TS Weather data May 2021.csv\")\n",
    "df4 = pd.read_csv(\"Datasets\\\\temperature\\TS Weather data June 2021.csv\")\n",
    "df5 = pd.read_csv(\"Datasets\\\\temperature\\TS Weather data July 2021.csv\")\n",
    "df6 = pd.read_csv(\"Datasets\\\\temperature\\TS Weather data August 2021.csv\")\n",
    "df7 = pd.read_csv(\"Datasets\\\\temperature\\TS Weather data September 2021.csv\")\n",
    "df8 = pd.read_csv(\"Datasets\\\\temperature\\TS Weather data October 2021.csv\")\n",
    "df9 = pd.read_csv(\"Datasets\\\\temperature\\TS Weather data November 2021.csv\")\n",
    "df10 = pd.read_csv(\"Datasets\\\\temperature\\TS Weather data December 2021.csv\")\n",
    "df11 = pd.read_csv(\"Datasets\\\\temperature\\TS Weather data April 2022..csv\")\n",
    "df12 = pd.read_csv(\"Datasets\\\\temperature\\TS Weather data May 2022_0.csv\")\n",
    "df13 = pd.read_csv(\"Datasets\\\\temperature\\TS Weather data June 2022_0.csv\")\n",
    "df14 = pd.read_csv(\"Datasets\\\\temperature\\TS Weather data July 2022_0.csv\")"
   ]
  },
  {
   "cell_type": "code",
   "execution_count": 3,
   "metadata": {},
   "outputs": [
    {
     "name": "stderr",
     "output_type": "stream",
     "text": [
      "C:\\Users\\Prakhar\\AppData\\Local\\Temp\\ipykernel_16512\\3741273546.py:1: FutureWarning: The frame.append method is deprecated and will be removed from pandas in a future version. Use pandas.concat instead.\n",
      "  weather = df1.append([df2,df3,df4,df5,df6,df7,df8,df9,df10,df11,df12,df13,df14])\n"
     ]
    }
   ],
   "source": [
    "weather = df1.append([df2,df3,df4,df5,df6,df7,df8,df9,df10,df11,df12,df13,df14])"
   ]
  },
  {
   "cell_type": "code",
   "execution_count": 4,
   "metadata": {},
   "outputs": [],
   "source": [
    "weather.drop([\"Unnamed: 10\",\"Unnamed: 11\",\"Unnamed: 12\",\"Unnamed: 13\",\"Unnamed: 14\"],axis = 1, inplace = True)"
   ]
  },
  {
   "cell_type": "code",
   "execution_count": 5,
   "metadata": {},
   "outputs": [
    {
     "data": {
      "text/html": [
       "<div>\n",
       "<style scoped>\n",
       "    .dataframe tbody tr th:only-of-type {\n",
       "        vertical-align: middle;\n",
       "    }\n",
       "\n",
       "    .dataframe tbody tr th {\n",
       "        vertical-align: top;\n",
       "    }\n",
       "\n",
       "    .dataframe thead th {\n",
       "        text-align: right;\n",
       "    }\n",
       "</style>\n",
       "<table border=\"1\" class=\"dataframe\">\n",
       "  <thead>\n",
       "    <tr style=\"text-align: right;\">\n",
       "      <th></th>\n",
       "      <th>District</th>\n",
       "      <th>Mandal</th>\n",
       "      <th>Date</th>\n",
       "      <th>Rain (mm)</th>\n",
       "      <th>Min Temp (°C)</th>\n",
       "      <th>Max Temp (°C)</th>\n",
       "      <th>Min Humidity (%)</th>\n",
       "      <th>Max Humidity (%)</th>\n",
       "      <th>Min Wind Speed (Kmph)</th>\n",
       "      <th>Max Wind Speed (Kmph)</th>\n",
       "    </tr>\n",
       "  </thead>\n",
       "  <tbody>\n",
       "    <tr>\n",
       "      <th>0</th>\n",
       "      <td>Adilabad</td>\n",
       "      <td>Bheempoor</td>\n",
       "      <td>01-Jan-21</td>\n",
       "      <td>0.0</td>\n",
       "      <td>10.1</td>\n",
       "      <td>30.0</td>\n",
       "      <td>37.8</td>\n",
       "      <td>95.7</td>\n",
       "      <td>0.0</td>\n",
       "      <td>3.1</td>\n",
       "    </tr>\n",
       "    <tr>\n",
       "      <th>1</th>\n",
       "      <td>Adilabad</td>\n",
       "      <td>Bheempoor</td>\n",
       "      <td>02-Jan-21</td>\n",
       "      <td>0.0</td>\n",
       "      <td>11.7</td>\n",
       "      <td>29.9</td>\n",
       "      <td>40.6</td>\n",
       "      <td>96.6</td>\n",
       "      <td>0.0</td>\n",
       "      <td>2.2</td>\n",
       "    </tr>\n",
       "    <tr>\n",
       "      <th>2</th>\n",
       "      <td>Adilabad</td>\n",
       "      <td>Bheempoor</td>\n",
       "      <td>03-Jan-21</td>\n",
       "      <td>0.0</td>\n",
       "      <td>10.4</td>\n",
       "      <td>30.4</td>\n",
       "      <td>45.8</td>\n",
       "      <td>97.0</td>\n",
       "      <td>0.0</td>\n",
       "      <td>2.2</td>\n",
       "    </tr>\n",
       "    <tr>\n",
       "      <th>3</th>\n",
       "      <td>Adilabad</td>\n",
       "      <td>Bheempoor</td>\n",
       "      <td>04-Jan-21</td>\n",
       "      <td>0.0</td>\n",
       "      <td>13.1</td>\n",
       "      <td>30.5</td>\n",
       "      <td>38.4</td>\n",
       "      <td>96.4</td>\n",
       "      <td>0.0</td>\n",
       "      <td>2.0</td>\n",
       "    </tr>\n",
       "    <tr>\n",
       "      <th>4</th>\n",
       "      <td>Adilabad</td>\n",
       "      <td>Bheempoor</td>\n",
       "      <td>05-Jan-21</td>\n",
       "      <td>0.0</td>\n",
       "      <td>13.4</td>\n",
       "      <td>29.8</td>\n",
       "      <td>50.7</td>\n",
       "      <td>97.0</td>\n",
       "      <td>0.0</td>\n",
       "      <td>2.0</td>\n",
       "    </tr>\n",
       "  </tbody>\n",
       "</table>\n",
       "</div>"
      ],
      "text/plain": [
       "   District     Mandal       Date  Rain (mm)  Min Temp (°C)  Max Temp (°C)  \\\n",
       "0  Adilabad  Bheempoor  01-Jan-21        0.0           10.1           30.0   \n",
       "1  Adilabad  Bheempoor  02-Jan-21        0.0           11.7           29.9   \n",
       "2  Adilabad  Bheempoor  03-Jan-21        0.0           10.4           30.4   \n",
       "3  Adilabad  Bheempoor  04-Jan-21        0.0           13.1           30.5   \n",
       "4  Adilabad  Bheempoor  05-Jan-21        0.0           13.4           29.8   \n",
       "\n",
       "   Min Humidity (%)  Max Humidity (%)  Min Wind Speed (Kmph)  \\\n",
       "0              37.8              95.7                    0.0   \n",
       "1              40.6              96.6                    0.0   \n",
       "2              45.8              97.0                    0.0   \n",
       "3              38.4              96.4                    0.0   \n",
       "4              50.7              97.0                    0.0   \n",
       "\n",
       "   Max Wind Speed (Kmph)  \n",
       "0                    3.1  \n",
       "1                    2.2  \n",
       "2                    2.2  \n",
       "3                    2.0  \n",
       "4                    2.0  "
      ]
     },
     "execution_count": 5,
     "metadata": {},
     "output_type": "execute_result"
    }
   ],
   "source": [
    "weather.head()"
   ]
  },
  {
   "cell_type": "code",
   "execution_count": 6,
   "metadata": {},
   "outputs": [],
   "source": [
    "weather.drop(\"Mandal\", axis = 1, inplace = True)"
   ]
  },
  {
   "cell_type": "code",
   "execution_count": 49,
   "metadata": {},
   "outputs": [],
   "source": [
    "# weather.to_excel(\"merged.xlsx\")"
   ]
  },
  {
   "cell_type": "code",
   "execution_count": 7,
   "metadata": {},
   "outputs": [
    {
     "name": "stdout",
     "output_type": "stream",
     "text": [
      "<class 'pandas.core.frame.DataFrame'>\n",
      "Int64Index: 297995 entries, 0 to 18413\n",
      "Data columns (total 9 columns):\n",
      " #   Column                 Non-Null Count   Dtype  \n",
      "---  ------                 --------------   -----  \n",
      " 0   District               297995 non-null  object \n",
      " 1   Date                   297995 non-null  object \n",
      " 2   Rain (mm)              297995 non-null  float64\n",
      " 3   Min Temp (°C)          297995 non-null  float64\n",
      " 4   Max Temp (°C)          297995 non-null  float64\n",
      " 5   Min Humidity (%)       297995 non-null  float64\n",
      " 6   Max Humidity (%)       297992 non-null  float64\n",
      " 7   Min Wind Speed (Kmph)  246792 non-null  float64\n",
      " 8   Max Wind Speed (Kmph)  246792 non-null  float64\n",
      "dtypes: float64(7), object(2)\n",
      "memory usage: 22.7+ MB\n"
     ]
    }
   ],
   "source": [
    "weather.info()"
   ]
  },
  {
   "cell_type": "code",
   "execution_count": 8,
   "metadata": {},
   "outputs": [
    {
     "data": {
      "text/plain": [
       "36"
      ]
     },
     "execution_count": 8,
     "metadata": {},
     "output_type": "execute_result"
    }
   ],
   "source": [
    "districts = weather['District'].unique()\n",
    "districts.size"
   ]
  },
  {
   "cell_type": "code",
   "execution_count": 9,
   "metadata": {},
   "outputs": [
    {
     "name": "stdout",
     "output_type": "stream",
     "text": [
      "<class 'pandas.core.frame.DataFrame'>\n",
      "Int64Index: 297995 entries, 0 to 18413\n",
      "Data columns (total 9 columns):\n",
      " #   Column                 Non-Null Count   Dtype         \n",
      "---  ------                 --------------   -----         \n",
      " 0   District               297995 non-null  object        \n",
      " 1   Date                   297995 non-null  datetime64[ns]\n",
      " 2   Rain (mm)              297995 non-null  float64       \n",
      " 3   Min Temp (°C)          297995 non-null  float64       \n",
      " 4   Max Temp (°C)          297995 non-null  float64       \n",
      " 5   Min Humidity (%)       297995 non-null  float64       \n",
      " 6   Max Humidity (%)       297992 non-null  float64       \n",
      " 7   Min Wind Speed (Kmph)  246792 non-null  float64       \n",
      " 8   Max Wind Speed (Kmph)  246792 non-null  float64       \n",
      "dtypes: datetime64[ns](1), float64(7), object(1)\n",
      "memory usage: 22.7+ MB\n"
     ]
    }
   ],
   "source": [
    "weather[\"Date\"] = pd.to_datetime(weather['Date'])\n",
    "weather.info()"
   ]
  },
  {
   "cell_type": "code",
   "execution_count": 10,
   "metadata": {},
   "outputs": [],
   "source": [
    "weather[\"Month\"] = weather[\"Date\"].dt.month\n",
    "weather[\"Day\"] = weather[\"Date\"].dt.day"
   ]
  },
  {
   "cell_type": "code",
   "execution_count": 11,
   "metadata": {},
   "outputs": [
    {
     "data": {
      "text/html": [
       "<div>\n",
       "<style scoped>\n",
       "    .dataframe tbody tr th:only-of-type {\n",
       "        vertical-align: middle;\n",
       "    }\n",
       "\n",
       "    .dataframe tbody tr th {\n",
       "        vertical-align: top;\n",
       "    }\n",
       "\n",
       "    .dataframe thead th {\n",
       "        text-align: right;\n",
       "    }\n",
       "</style>\n",
       "<table border=\"1\" class=\"dataframe\">\n",
       "  <thead>\n",
       "    <tr style=\"text-align: right;\">\n",
       "      <th></th>\n",
       "      <th>Rain (mm)</th>\n",
       "      <th>Min Temp (°C)</th>\n",
       "      <th>Max Temp (°C)</th>\n",
       "      <th>Min Humidity (%)</th>\n",
       "      <th>Max Humidity (%)</th>\n",
       "      <th>Min Wind Speed (Kmph)</th>\n",
       "      <th>Max Wind Speed (Kmph)</th>\n",
       "      <th>Month</th>\n",
       "      <th>Day</th>\n",
       "    </tr>\n",
       "  </thead>\n",
       "  <tbody>\n",
       "    <tr>\n",
       "      <th>count</th>\n",
       "      <td>297995.000000</td>\n",
       "      <td>297995.000000</td>\n",
       "      <td>297995.000000</td>\n",
       "      <td>297995.000000</td>\n",
       "      <td>297992.000000</td>\n",
       "      <td>246792.000000</td>\n",
       "      <td>246792.000000</td>\n",
       "      <td>297995.000000</td>\n",
       "      <td>297995.000000</td>\n",
       "    </tr>\n",
       "    <tr>\n",
       "      <th>mean</th>\n",
       "      <td>3.757771</td>\n",
       "      <td>22.692338</td>\n",
       "      <td>34.097261</td>\n",
       "      <td>46.528906</td>\n",
       "      <td>86.312586</td>\n",
       "      <td>0.129949</td>\n",
       "      <td>8.028867</td>\n",
       "      <td>6.238900</td>\n",
       "      <td>15.499445</td>\n",
       "    </tr>\n",
       "    <tr>\n",
       "      <th>std</th>\n",
       "      <td>13.222568</td>\n",
       "      <td>3.789614</td>\n",
       "      <td>3.942691</td>\n",
       "      <td>21.912215</td>\n",
       "      <td>20.142101</td>\n",
       "      <td>0.686120</td>\n",
       "      <td>7.129613</td>\n",
       "      <td>3.026573</td>\n",
       "      <td>8.789010</td>\n",
       "    </tr>\n",
       "    <tr>\n",
       "      <th>min</th>\n",
       "      <td>0.000000</td>\n",
       "      <td>3.500000</td>\n",
       "      <td>17.300000</td>\n",
       "      <td>-1.000000</td>\n",
       "      <td>-1.000000</td>\n",
       "      <td>0.000000</td>\n",
       "      <td>0.000000</td>\n",
       "      <td>1.000000</td>\n",
       "      <td>1.000000</td>\n",
       "    </tr>\n",
       "    <tr>\n",
       "      <th>25%</th>\n",
       "      <td>0.000000</td>\n",
       "      <td>20.800000</td>\n",
       "      <td>31.400000</td>\n",
       "      <td>30.400000</td>\n",
       "      <td>80.700000</td>\n",
       "      <td>0.000000</td>\n",
       "      <td>2.800000</td>\n",
       "      <td>4.000000</td>\n",
       "      <td>8.000000</td>\n",
       "    </tr>\n",
       "    <tr>\n",
       "      <th>50%</th>\n",
       "      <td>0.000000</td>\n",
       "      <td>23.400000</td>\n",
       "      <td>33.500000</td>\n",
       "      <td>45.300000</td>\n",
       "      <td>93.500000</td>\n",
       "      <td>0.000000</td>\n",
       "      <td>7.300000</td>\n",
       "      <td>6.000000</td>\n",
       "      <td>15.000000</td>\n",
       "    </tr>\n",
       "    <tr>\n",
       "      <th>75%</th>\n",
       "      <td>0.300000</td>\n",
       "      <td>25.200000</td>\n",
       "      <td>37.100000</td>\n",
       "      <td>62.800000</td>\n",
       "      <td>99.900000</td>\n",
       "      <td>0.000000</td>\n",
       "      <td>11.600000</td>\n",
       "      <td>8.000000</td>\n",
       "      <td>23.000000</td>\n",
       "    </tr>\n",
       "    <tr>\n",
       "      <th>max</th>\n",
       "      <td>391.000000</td>\n",
       "      <td>34.100000</td>\n",
       "      <td>46.000000</td>\n",
       "      <td>100.000000</td>\n",
       "      <td>100.000000</td>\n",
       "      <td>31.300000</td>\n",
       "      <td>69.800000</td>\n",
       "      <td>12.000000</td>\n",
       "      <td>31.000000</td>\n",
       "    </tr>\n",
       "  </tbody>\n",
       "</table>\n",
       "</div>"
      ],
      "text/plain": [
       "           Rain (mm)  Min Temp (°C)  Max Temp (°C)  Min Humidity (%)  \\\n",
       "count  297995.000000  297995.000000  297995.000000     297995.000000   \n",
       "mean        3.757771      22.692338      34.097261         46.528906   \n",
       "std        13.222568       3.789614       3.942691         21.912215   \n",
       "min         0.000000       3.500000      17.300000         -1.000000   \n",
       "25%         0.000000      20.800000      31.400000         30.400000   \n",
       "50%         0.000000      23.400000      33.500000         45.300000   \n",
       "75%         0.300000      25.200000      37.100000         62.800000   \n",
       "max       391.000000      34.100000      46.000000        100.000000   \n",
       "\n",
       "       Max Humidity (%)  Min Wind Speed (Kmph)  Max Wind Speed (Kmph)  \\\n",
       "count     297992.000000          246792.000000          246792.000000   \n",
       "mean          86.312586               0.129949               8.028867   \n",
       "std           20.142101               0.686120               7.129613   \n",
       "min           -1.000000               0.000000               0.000000   \n",
       "25%           80.700000               0.000000               2.800000   \n",
       "50%           93.500000               0.000000               7.300000   \n",
       "75%           99.900000               0.000000              11.600000   \n",
       "max          100.000000              31.300000              69.800000   \n",
       "\n",
       "               Month            Day  \n",
       "count  297995.000000  297995.000000  \n",
       "mean        6.238900      15.499445  \n",
       "std         3.026573       8.789010  \n",
       "min         1.000000       1.000000  \n",
       "25%         4.000000       8.000000  \n",
       "50%         6.000000      15.000000  \n",
       "75%         8.000000      23.000000  \n",
       "max        12.000000      31.000000  "
      ]
     },
     "execution_count": 11,
     "metadata": {},
     "output_type": "execute_result"
    }
   ],
   "source": [
    "weather.describe()"
   ]
  },
  {
   "cell_type": "code",
   "execution_count": 12,
   "metadata": {},
   "outputs": [
    {
     "data": {
      "text/plain": [
       "Nalgonda                15593\n",
       "Nizamabad               14587\n",
       "Rangareddy              13581\n",
       "Sangareddy              13430\n",
       "Siddipet                11921\n",
       "Bhadradri Kothagudem    11569\n",
       "Suryapet                11569\n",
       "Kamareddy               11066\n",
       "Khammam                 10563\n",
       "Medak                   10412\n",
       "Nagarkurnool            10060\n",
       "Nirmal                   9557\n",
       "Vikarabad                9390\n",
       "Adilabad                 9054\n",
       "Jagtial                  9054\n",
       "Mancherial               9054\n",
       "Yadadri Bhuvanagiri      8551\n",
       "Karimnagar               8048\n",
       "Mahabubabad              8048\n",
       "Hyderabad                8048\n",
       "Mahabubnagar             7881\n",
       "Kumuram Bheem            7545\n",
       "Medchal-Malkajgiri       7545\n",
       "Wanaparthy               7042\n",
       "Peddapalli               7042\n",
       "Rajanna Sircilla         6539\n",
       "Jangaon                  6036\n",
       "Jogulamba Gadwal         6036\n",
       "Jayashankar              5533\n",
       "Narayanpet               5533\n",
       "Warangal Rural           4624\n",
       "Mulugu                   4527\n",
       "Warangal Urban           3179\n",
       "Warangal                 2782\n",
       "Hanumakkonda             1708\n",
       "Hanumakonda              1288\n",
       "Name: District, dtype: int64"
      ]
     },
     "execution_count": 12,
     "metadata": {},
     "output_type": "execute_result"
    }
   ],
   "source": [
    "weather['District'].value_counts()"
   ]
  },
  {
   "cell_type": "code",
   "execution_count": 13,
   "metadata": {},
   "outputs": [
    {
     "name": "stdout",
     "output_type": "stream",
     "text": [
      "{'Adilabad': 0, 'Kumuram Bheem': 1, 'Mancherial': 2, 'Nirmal': 3, 'Nizamabad': 4, 'Jagtial': 5, 'Peddapalli': 6, 'Jayashankar': 7, 'Bhadradri Kothagudem': 8, 'Mahabubabad': 9, 'Warangal Rural': 10, 'Warangal Urban': 11, 'Karimnagar': 12, 'Rajanna Sircilla': 13, 'Kamareddy': 14, 'Sangareddy': 15, 'Medak': 16, 'Siddipet': 17, 'Jangaon': 18, 'Yadadri Bhuvanagiri': 19, 'Medchal-Malkajgiri': 20, 'Hyderabad': 21, 'Rangareddy': 22, 'Vikarabad': 23, 'Mahabubnagar': 24, 'Jogulamba Gadwal': 25, 'Wanaparthy': 26, 'Nagarkurnool': 27, 'Nalgonda': 28, 'Suryapet': 29, 'Khammam': 30, 'Mulugu': 31, 'Narayanpet': 32, 'Hanumakkonda': 33, 'Warangal': 34}\n"
     ]
    }
   ],
   "source": [
    "Districts = {districts[i]:i for i in range(0,len(districts)-1)}\n",
    "print(Districts)"
   ]
  },
  {
   "cell_type": "code",
   "execution_count": 14,
   "metadata": {},
   "outputs": [],
   "source": [
    "weather['District'] = weather['District'].map(Districts)"
   ]
  },
  {
   "cell_type": "code",
   "execution_count": 15,
   "metadata": {},
   "outputs": [
    {
     "data": {
      "text/plain": [
       "District                  1288\n",
       "Date                         0\n",
       "Rain (mm)                    0\n",
       "Min Temp (°C)                0\n",
       "Max Temp (°C)                0\n",
       "Min Humidity (%)             0\n",
       "Max Humidity (%)             3\n",
       "Min Wind Speed (Kmph)    51203\n",
       "Max Wind Speed (Kmph)    51203\n",
       "Month                        0\n",
       "Day                          0\n",
       "dtype: int64"
      ]
     },
     "execution_count": 15,
     "metadata": {},
     "output_type": "execute_result"
    }
   ],
   "source": [
    "#Handling missing values\n",
    "weather.isnull().sum()"
   ]
  },
  {
   "cell_type": "code",
   "execution_count": 16,
   "metadata": {},
   "outputs": [],
   "source": [
    "weather.drop(['Min Wind Speed (Kmph)','Max Wind Speed (Kmph)'],axis = 1, inplace = True)"
   ]
  },
  {
   "cell_type": "code",
   "execution_count": 17,
   "metadata": {},
   "outputs": [],
   "source": [
    "from sklearn.impute import SimpleImputer\n",
    "imp = SimpleImputer(strategy = 'median')\n",
    "weather['Max Humidity (%)'] = imp.fit_transform(weather['Max Humidity (%)'].to_numpy().reshape(-1,1))\n",
    "# weather['Min Wind Speed (Kmph)'] = imp.fit_transform(weather['Min Wind Speed (Kmph)'].to_numpy().reshape(-1,1))\n",
    "# weather['Max Wind Speed (Kmph)'] = imp.fit_transform(weather['Max Wind Speed (Kmph)'].to_numpy().reshape(-1,1))"
   ]
  },
  {
   "cell_type": "code",
   "execution_count": 18,
   "metadata": {},
   "outputs": [],
   "source": [
    "weather['District'] = imp.fit_transform(weather['District'].to_numpy().reshape(-1,1))"
   ]
  },
  {
   "cell_type": "code",
   "execution_count": 19,
   "metadata": {},
   "outputs": [
    {
     "data": {
      "text/plain": [
       "District            0\n",
       "Date                0\n",
       "Rain (mm)           0\n",
       "Min Temp (°C)       0\n",
       "Max Temp (°C)       0\n",
       "Min Humidity (%)    0\n",
       "Max Humidity (%)    0\n",
       "Month               0\n",
       "Day                 0\n",
       "dtype: int64"
      ]
     },
     "execution_count": 19,
     "metadata": {},
     "output_type": "execute_result"
    }
   ],
   "source": [
    "weather.isnull().sum()"
   ]
  },
  {
   "cell_type": "code",
   "execution_count": 20,
   "metadata": {},
   "outputs": [],
   "source": [
    "from sklearn.preprocessing import Normalizer\n",
    "\n",
    "scaler = Normalizer()\n",
    "weather[['Rain (mm)','Min Temp (°C)','Max Temp (°C)','Min Humidity (%)','Max Humidity (%)','Month','Day']] = scaler.fit_transform(weather[['Rain (mm)','Min Temp (°C)','Max Temp (°C)','Min Humidity (%)','Max Humidity (%)','Month','Day']])"
   ]
  },
  {
   "cell_type": "code",
   "execution_count": 21,
   "metadata": {},
   "outputs": [
    {
     "data": {
      "text/html": [
       "<div>\n",
       "<style scoped>\n",
       "    .dataframe tbody tr th:only-of-type {\n",
       "        vertical-align: middle;\n",
       "    }\n",
       "\n",
       "    .dataframe tbody tr th {\n",
       "        vertical-align: top;\n",
       "    }\n",
       "\n",
       "    .dataframe thead th {\n",
       "        text-align: right;\n",
       "    }\n",
       "</style>\n",
       "<table border=\"1\" class=\"dataframe\">\n",
       "  <thead>\n",
       "    <tr style=\"text-align: right;\">\n",
       "      <th></th>\n",
       "      <th>District</th>\n",
       "      <th>Date</th>\n",
       "      <th>Rain (mm)</th>\n",
       "      <th>Min Temp (°C)</th>\n",
       "      <th>Max Temp (°C)</th>\n",
       "      <th>Min Humidity (%)</th>\n",
       "      <th>Max Humidity (%)</th>\n",
       "      <th>Month</th>\n",
       "      <th>Day</th>\n",
       "    </tr>\n",
       "  </thead>\n",
       "  <tbody>\n",
       "    <tr>\n",
       "      <th>0</th>\n",
       "      <td>0.0</td>\n",
       "      <td>2021-01-01</td>\n",
       "      <td>0.0</td>\n",
       "      <td>0.093811</td>\n",
       "      <td>0.278647</td>\n",
       "      <td>0.351095</td>\n",
       "      <td>0.888884</td>\n",
       "      <td>0.009288</td>\n",
       "      <td>0.009288</td>\n",
       "    </tr>\n",
       "    <tr>\n",
       "      <th>1</th>\n",
       "      <td>0.0</td>\n",
       "      <td>2021-01-02</td>\n",
       "      <td>0.0</td>\n",
       "      <td>0.106736</td>\n",
       "      <td>0.272769</td>\n",
       "      <td>0.370382</td>\n",
       "      <td>0.881253</td>\n",
       "      <td>0.009123</td>\n",
       "      <td>0.018245</td>\n",
       "    </tr>\n",
       "    <tr>\n",
       "      <th>2</th>\n",
       "      <td>0.0</td>\n",
       "      <td>2021-01-03</td>\n",
       "      <td>0.0</td>\n",
       "      <td>0.092839</td>\n",
       "      <td>0.271375</td>\n",
       "      <td>0.408848</td>\n",
       "      <td>0.865900</td>\n",
       "      <td>0.008927</td>\n",
       "      <td>0.026780</td>\n",
       "    </tr>\n",
       "    <tr>\n",
       "      <th>3</th>\n",
       "      <td>0.0</td>\n",
       "      <td>2021-01-04</td>\n",
       "      <td>0.0</td>\n",
       "      <td>0.120156</td>\n",
       "      <td>0.279753</td>\n",
       "      <td>0.352214</td>\n",
       "      <td>0.884203</td>\n",
       "      <td>0.009172</td>\n",
       "      <td>0.036689</td>\n",
       "    </tr>\n",
       "    <tr>\n",
       "      <th>4</th>\n",
       "      <td>0.0</td>\n",
       "      <td>2021-01-05</td>\n",
       "      <td>0.0</td>\n",
       "      <td>0.117197</td>\n",
       "      <td>0.260632</td>\n",
       "      <td>0.443424</td>\n",
       "      <td>0.848365</td>\n",
       "      <td>0.008746</td>\n",
       "      <td>0.043730</td>\n",
       "    </tr>\n",
       "  </tbody>\n",
       "</table>\n",
       "</div>"
      ],
      "text/plain": [
       "   District       Date  Rain (mm)  Min Temp (°C)  Max Temp (°C)  \\\n",
       "0       0.0 2021-01-01        0.0       0.093811       0.278647   \n",
       "1       0.0 2021-01-02        0.0       0.106736       0.272769   \n",
       "2       0.0 2021-01-03        0.0       0.092839       0.271375   \n",
       "3       0.0 2021-01-04        0.0       0.120156       0.279753   \n",
       "4       0.0 2021-01-05        0.0       0.117197       0.260632   \n",
       "\n",
       "   Min Humidity (%)  Max Humidity (%)     Month       Day  \n",
       "0          0.351095          0.888884  0.009288  0.009288  \n",
       "1          0.370382          0.881253  0.009123  0.018245  \n",
       "2          0.408848          0.865900  0.008927  0.026780  \n",
       "3          0.352214          0.884203  0.009172  0.036689  \n",
       "4          0.443424          0.848365  0.008746  0.043730  "
      ]
     },
     "execution_count": 21,
     "metadata": {},
     "output_type": "execute_result"
    }
   ],
   "source": [
    "weather.head()"
   ]
  },
  {
   "cell_type": "code",
   "execution_count": 22,
   "metadata": {},
   "outputs": [
    {
     "name": "stderr",
     "output_type": "stream",
     "text": [
      "C:\\Users\\Prakhar\\AppData\\Local\\Temp\\ipykernel_16512\\3248174202.py:1: FutureWarning: The default value of numeric_only in DataFrame.corr is deprecated. In a future version, it will default to False. Select only valid columns or specify the value of numeric_only to silence this warning.\n",
      "  corr_matrix = weather.corr()\n"
     ]
    },
    {
     "data": {
      "text/html": [
       "<div>\n",
       "<style scoped>\n",
       "    .dataframe tbody tr th:only-of-type {\n",
       "        vertical-align: middle;\n",
       "    }\n",
       "\n",
       "    .dataframe tbody tr th {\n",
       "        vertical-align: top;\n",
       "    }\n",
       "\n",
       "    .dataframe thead th {\n",
       "        text-align: right;\n",
       "    }\n",
       "</style>\n",
       "<table border=\"1\" class=\"dataframe\">\n",
       "  <thead>\n",
       "    <tr style=\"text-align: right;\">\n",
       "      <th></th>\n",
       "      <th>District</th>\n",
       "      <th>Rain (mm)</th>\n",
       "      <th>Min Temp (°C)</th>\n",
       "      <th>Max Temp (°C)</th>\n",
       "      <th>Min Humidity (%)</th>\n",
       "      <th>Max Humidity (%)</th>\n",
       "      <th>Month</th>\n",
       "      <th>Day</th>\n",
       "    </tr>\n",
       "  </thead>\n",
       "  <tbody>\n",
       "    <tr>\n",
       "      <th>District</th>\n",
       "      <td>1.000000</td>\n",
       "      <td>-0.060772</td>\n",
       "      <td>-0.015235</td>\n",
       "      <td>-0.031203</td>\n",
       "      <td>-0.009385</td>\n",
       "      <td>0.046264</td>\n",
       "      <td>0.022376</td>\n",
       "      <td>-0.006635</td>\n",
       "    </tr>\n",
       "    <tr>\n",
       "      <th>Rain (mm)</th>\n",
       "      <td>-0.060772</td>\n",
       "      <td>1.000000</td>\n",
       "      <td>-0.192945</td>\n",
       "      <td>-0.266551</td>\n",
       "      <td>0.228855</td>\n",
       "      <td>-0.114786</td>\n",
       "      <td>-0.055925</td>\n",
       "      <td>-0.108499</td>\n",
       "    </tr>\n",
       "    <tr>\n",
       "      <th>Min Temp (°C)</th>\n",
       "      <td>-0.015235</td>\n",
       "      <td>-0.192945</td>\n",
       "      <td>1.000000</td>\n",
       "      <td>0.919963</td>\n",
       "      <td>-0.593527</td>\n",
       "      <td>-0.774474</td>\n",
       "      <td>0.218814</td>\n",
       "      <td>0.163606</td>\n",
       "    </tr>\n",
       "    <tr>\n",
       "      <th>Max Temp (°C)</th>\n",
       "      <td>-0.031203</td>\n",
       "      <td>-0.266551</td>\n",
       "      <td>0.919963</td>\n",
       "      <td>1.000000</td>\n",
       "      <td>-0.815500</td>\n",
       "      <td>-0.666611</td>\n",
       "      <td>0.146492</td>\n",
       "      <td>0.175888</td>\n",
       "    </tr>\n",
       "    <tr>\n",
       "      <th>Min Humidity (%)</th>\n",
       "      <td>-0.009385</td>\n",
       "      <td>0.228855</td>\n",
       "      <td>-0.593527</td>\n",
       "      <td>-0.815500</td>\n",
       "      <td>1.000000</td>\n",
       "      <td>0.280759</td>\n",
       "      <td>0.043176</td>\n",
       "      <td>-0.188030</td>\n",
       "    </tr>\n",
       "    <tr>\n",
       "      <th>Max Humidity (%)</th>\n",
       "      <td>0.046264</td>\n",
       "      <td>-0.114786</td>\n",
       "      <td>-0.774474</td>\n",
       "      <td>-0.666611</td>\n",
       "      <td>0.280759</td>\n",
       "      <td>1.000000</td>\n",
       "      <td>-0.370893</td>\n",
       "      <td>-0.144336</td>\n",
       "    </tr>\n",
       "    <tr>\n",
       "      <th>Month</th>\n",
       "      <td>0.022376</td>\n",
       "      <td>-0.055925</td>\n",
       "      <td>0.218814</td>\n",
       "      <td>0.146492</td>\n",
       "      <td>0.043176</td>\n",
       "      <td>-0.370893</td>\n",
       "      <td>1.000000</td>\n",
       "      <td>-0.031136</td>\n",
       "    </tr>\n",
       "    <tr>\n",
       "      <th>Day</th>\n",
       "      <td>-0.006635</td>\n",
       "      <td>-0.108499</td>\n",
       "      <td>0.163606</td>\n",
       "      <td>0.175888</td>\n",
       "      <td>-0.188030</td>\n",
       "      <td>-0.144336</td>\n",
       "      <td>-0.031136</td>\n",
       "      <td>1.000000</td>\n",
       "    </tr>\n",
       "  </tbody>\n",
       "</table>\n",
       "</div>"
      ],
      "text/plain": [
       "                  District  Rain (mm)  Min Temp (°C)  Max Temp (°C)  \\\n",
       "District          1.000000  -0.060772      -0.015235      -0.031203   \n",
       "Rain (mm)        -0.060772   1.000000      -0.192945      -0.266551   \n",
       "Min Temp (°C)    -0.015235  -0.192945       1.000000       0.919963   \n",
       "Max Temp (°C)    -0.031203  -0.266551       0.919963       1.000000   \n",
       "Min Humidity (%) -0.009385   0.228855      -0.593527      -0.815500   \n",
       "Max Humidity (%)  0.046264  -0.114786      -0.774474      -0.666611   \n",
       "Month             0.022376  -0.055925       0.218814       0.146492   \n",
       "Day              -0.006635  -0.108499       0.163606       0.175888   \n",
       "\n",
       "                  Min Humidity (%)  Max Humidity (%)     Month       Day  \n",
       "District                 -0.009385          0.046264  0.022376 -0.006635  \n",
       "Rain (mm)                 0.228855         -0.114786 -0.055925 -0.108499  \n",
       "Min Temp (°C)            -0.593527         -0.774474  0.218814  0.163606  \n",
       "Max Temp (°C)            -0.815500         -0.666611  0.146492  0.175888  \n",
       "Min Humidity (%)          1.000000          0.280759  0.043176 -0.188030  \n",
       "Max Humidity (%)          0.280759          1.000000 -0.370893 -0.144336  \n",
       "Month                     0.043176         -0.370893  1.000000 -0.031136  \n",
       "Day                      -0.188030         -0.144336 -0.031136  1.000000  "
      ]
     },
     "execution_count": 22,
     "metadata": {},
     "output_type": "execute_result"
    }
   ],
   "source": [
    "corr_matrix = weather.corr()\n",
    "corr_matrix"
   ]
  },
  {
   "cell_type": "code",
   "execution_count": 23,
   "metadata": {},
   "outputs": [],
   "source": [
    "X = weather.drop([\"Date\",\"Max Temp (°C)\"],axis = 1)\n",
    "y = weather[\"Max Temp (°C)\"]"
   ]
  },
  {
   "cell_type": "code",
   "execution_count": 24,
   "metadata": {},
   "outputs": [],
   "source": [
    "from sklearn.linear_model import LinearRegression\n",
    "from sklearn.linear_model import Lasso\n",
    "from sklearn.svm import LinearSVR\n",
    "from sklearn.tree import DecisionTreeRegressor\n",
    "from sklearn.neighbors import KNeighborsRegressor\n",
    "from sklearn.ensemble import RandomForestRegressor"
   ]
  },
  {
   "cell_type": "code",
   "execution_count": 25,
   "metadata": {},
   "outputs": [],
   "source": [
    "from sklearn.model_selection import KFold\n",
    "from sklearn.model_selection import cross_val_score"
   ]
  },
  {
   "cell_type": "code",
   "execution_count": 33,
   "metadata": {},
   "outputs": [
    {
     "name": "stdout",
     "output_type": "stream",
     "text": [
      "[-2.87729740e-02 -3.89838153e-01 -7.28293140e+00 -3.52965810e-01\n",
      " -6.99478495e-03]\n",
      "-1.612300625439358\n"
     ]
    }
   ],
   "source": [
    "model_name = []\n",
    "accuracy = []\n",
    "model_1 = Lasso()\n",
    "kf = KFold(5)\n",
    "scores = cross_val_score(model_1,X,y,cv = kf)\n",
    "print(scores)\n",
    "print(np.mean(scores))\n",
    "model_name.append('Lasso')\n",
    "accuracy.append(np.mean(scores)*100)"
   ]
  },
  {
   "cell_type": "code",
   "execution_count": 35,
   "metadata": {},
   "outputs": [
    {
     "name": "stdout",
     "output_type": "stream",
     "text": [
      "[0.78779657 0.82548867 0.8225026  0.88699224 0.95781532]\n",
      "0.8561190791511724\n"
     ]
    }
   ],
   "source": [
    "model_2 = LinearRegression()\n",
    "scores = cross_val_score(model_2,X,y, cv = kf)\n",
    "print(scores)\n",
    "print(np.mean(scores))\n",
    "model_name.append('Linear Regression')\n",
    "accuracy.append(np.mean(scores)*100)"
   ]
  },
  {
   "cell_type": "code",
   "execution_count": 36,
   "metadata": {},
   "outputs": [
    {
     "name": "stderr",
     "output_type": "stream",
     "text": [
      "c:\\Users\\Prakhar\\AppData\\Local\\Programs\\Python\\Python310\\lib\\site-packages\\sklearn\\svm\\_base.py:1225: ConvergenceWarning: Liblinear failed to converge, increase the number of iterations.\n",
      "  warnings.warn(\n",
      "c:\\Users\\Prakhar\\AppData\\Local\\Programs\\Python\\Python310\\lib\\site-packages\\sklearn\\svm\\_base.py:1225: ConvergenceWarning: Liblinear failed to converge, increase the number of iterations.\n",
      "  warnings.warn(\n",
      "c:\\Users\\Prakhar\\AppData\\Local\\Programs\\Python\\Python310\\lib\\site-packages\\sklearn\\svm\\_base.py:1225: ConvergenceWarning: Liblinear failed to converge, increase the number of iterations.\n",
      "  warnings.warn(\n",
      "c:\\Users\\Prakhar\\AppData\\Local\\Programs\\Python\\Python310\\lib\\site-packages\\sklearn\\svm\\_base.py:1225: ConvergenceWarning: Liblinear failed to converge, increase the number of iterations.\n",
      "  warnings.warn(\n"
     ]
    },
    {
     "name": "stdout",
     "output_type": "stream",
     "text": [
      "[ 0.76532328  0.77399756 -1.41819717  0.85178779  0.95535083]\n",
      "0.3856524565817764\n"
     ]
    },
    {
     "name": "stderr",
     "output_type": "stream",
     "text": [
      "c:\\Users\\Prakhar\\AppData\\Local\\Programs\\Python\\Python310\\lib\\site-packages\\sklearn\\svm\\_base.py:1225: ConvergenceWarning: Liblinear failed to converge, increase the number of iterations.\n",
      "  warnings.warn(\n"
     ]
    }
   ],
   "source": [
    "model_3 = LinearSVR()\n",
    "scores = cross_val_score(model_3,X,y, cv = kf)\n",
    "print(scores)\n",
    "print(np.mean(scores))\n",
    "model_name.append('Linear SVR')\n",
    "accuracy.append(np.mean(scores)*100)"
   ]
  },
  {
   "cell_type": "code",
   "execution_count": 37,
   "metadata": {},
   "outputs": [
    {
     "name": "stdout",
     "output_type": "stream",
     "text": [
      "[0.83436927 0.76085369 0.83488121 0.89374697 0.94928699]\n",
      "0.854627625471832\n"
     ]
    }
   ],
   "source": [
    "model_4 = KNeighborsRegressor()\n",
    "scores = cross_val_score(model_4,X,y, cv = kf)\n",
    "print(scores)\n",
    "print(np.mean(scores))\n",
    "model_name.append('K Neighbors')\n",
    "accuracy.append(np.mean(scores)*100)"
   ]
  },
  {
   "cell_type": "code",
   "execution_count": 38,
   "metadata": {},
   "outputs": [
    {
     "name": "stdout",
     "output_type": "stream",
     "text": [
      "[0.86077239 0.91939647 0.86019598 0.78087514 0.95380101]\n",
      "0.8750081968110818\n"
     ]
    }
   ],
   "source": [
    "model_5 = DecisionTreeRegressor()\n",
    "scores = cross_val_score(model_5,X,y, cv = kf)\n",
    "print(scores)\n",
    "print(np.mean(scores))\n",
    "model_name.append('Decision Tree Regressor')\n",
    "accuracy.append(np.mean(scores)*100)"
   ]
  },
  {
   "cell_type": "code",
   "execution_count": 40,
   "metadata": {},
   "outputs": [
    {
     "name": "stdout",
     "output_type": "stream",
     "text": [
      "[0.88739351 0.94311376 0.92546263 0.80603792 0.9628092 ]\n",
      "0.9049634034417562\n"
     ]
    }
   ],
   "source": [
    "model_6 = RandomForestRegressor(n_estimators=10)\n",
    "scores = cross_val_score(model_6,X,y, cv = kf)\n",
    "print(scores)\n",
    "print(np.mean(scores))\n",
    "model_name.append('Random Forest Regressor')\n",
    "accuracy.append(np.mean(scores)*100)"
   ]
  },
  {
   "cell_type": "code",
   "execution_count": 42,
   "metadata": {},
   "outputs": [
    {
     "data": {
      "text/html": [
       "<div>\n",
       "<style scoped>\n",
       "    .dataframe tbody tr th:only-of-type {\n",
       "        vertical-align: middle;\n",
       "    }\n",
       "\n",
       "    .dataframe tbody tr th {\n",
       "        vertical-align: top;\n",
       "    }\n",
       "\n",
       "    .dataframe thead th {\n",
       "        text-align: right;\n",
       "    }\n",
       "</style>\n",
       "<table border=\"1\" class=\"dataframe\">\n",
       "  <thead>\n",
       "    <tr style=\"text-align: right;\">\n",
       "      <th></th>\n",
       "      <th>Model Name</th>\n",
       "      <th>Accuracy</th>\n",
       "    </tr>\n",
       "  </thead>\n",
       "  <tbody>\n",
       "    <tr>\n",
       "      <th>0</th>\n",
       "      <td>Lasso</td>\n",
       "      <td>-161.230063</td>\n",
       "    </tr>\n",
       "    <tr>\n",
       "      <th>2</th>\n",
       "      <td>Linear Regression</td>\n",
       "      <td>85.611908</td>\n",
       "    </tr>\n",
       "    <tr>\n",
       "      <th>3</th>\n",
       "      <td>Linear SVR</td>\n",
       "      <td>38.565246</td>\n",
       "    </tr>\n",
       "    <tr>\n",
       "      <th>4</th>\n",
       "      <td>K Neighbors</td>\n",
       "      <td>85.462763</td>\n",
       "    </tr>\n",
       "    <tr>\n",
       "      <th>5</th>\n",
       "      <td>Decision Tree Regressor</td>\n",
       "      <td>87.500820</td>\n",
       "    </tr>\n",
       "    <tr>\n",
       "      <th>6</th>\n",
       "      <td>Random Forest Regressor</td>\n",
       "      <td>90.496340</td>\n",
       "    </tr>\n",
       "  </tbody>\n",
       "</table>\n",
       "</div>"
      ],
      "text/plain": [
       "                Model Name    Accuracy\n",
       "0                    Lasso -161.230063\n",
       "2        Linear Regression   85.611908\n",
       "3               Linear SVR   38.565246\n",
       "4              K Neighbors   85.462763\n",
       "5  Decision Tree Regressor   87.500820\n",
       "6  Random Forest Regressor   90.496340"
      ]
     },
     "execution_count": 42,
     "metadata": {},
     "output_type": "execute_result"
    }
   ],
   "source": [
    "model_list = {'Model Name': model_name,'Accuracy':accuracy}\n",
    "result = pd.DataFrame(model_list)\n",
    "result.drop([1],axis = 0, inplace = True)\n",
    "result"
   ]
  },
  {
   "cell_type": "code",
   "execution_count": 43,
   "metadata": {},
   "outputs": [],
   "source": [
    "from sklearn.model_selection import train_test_split\n",
    "X_train,X_test,y_train,y_test = train_test_split(X,y, test_size = 0.2, random_state = 40)"
   ]
  },
  {
   "cell_type": "code",
   "execution_count": 46,
   "metadata": {},
   "outputs": [
    {
     "name": "stdout",
     "output_type": "stream",
     "text": [
      "0.9958498326390156\n"
     ]
    }
   ],
   "source": [
    "model_6.fit(X_train,y_train)\n",
    "y_pred = model_6.predict(X_test)\n",
    "print(model_6.score(X_test,y_test))"
   ]
  },
  {
   "cell_type": "code",
   "execution_count": 48,
   "metadata": {},
   "outputs": [],
   "source": [
    "import pickle\n",
    "file = open('model.pkl','wb')\n",
    "pickle.dump(model_6,file)"
   ]
  },
  {
   "cell_type": "code",
   "execution_count": null,
   "metadata": {},
   "outputs": [],
   "source": []
  }
 ],
 "metadata": {
  "kernelspec": {
   "display_name": "Python 3",
   "language": "python",
   "name": "python3"
  },
  "language_info": {
   "codemirror_mode": {
    "name": "ipython",
    "version": 3
   },
   "file_extension": ".py",
   "mimetype": "text/x-python",
   "name": "python",
   "nbconvert_exporter": "python",
   "pygments_lexer": "ipython3",
   "version": "3.10.1"
  },
  "orig_nbformat": 4,
  "vscode": {
   "interpreter": {
    "hash": "6589f82916e0372512164f6d74c2072ab0f01ddbc3a7c0737949c752e7bd5a0e"
   }
  }
 },
 "nbformat": 4,
 "nbformat_minor": 2
}
